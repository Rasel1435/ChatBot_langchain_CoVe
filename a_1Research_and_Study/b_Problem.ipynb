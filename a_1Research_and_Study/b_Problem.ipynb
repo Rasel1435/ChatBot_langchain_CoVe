{
 "cells": [
  {
   "cell_type": "markdown",
   "id": "25e77a76-dc2b-48e9-80e3-ce76fb0aff67",
   "metadata": {},
   "source": [
    "# Challenges"
   ]
  },
  {
   "cell_type": "markdown",
   "id": "141319d5",
   "metadata": {},
   "source": [
    "Here is the list of our callenges :\n",
    "- Limited Resource\n",
    "- Hardware Support\n",
    "- Version Clash\n",
    "- LLM Api Support\n",
    "- Running in any environment after installation\n",
    "- Limited Access to Documentation & Blogs\n",
    "- LLM with Large Parameters\n",
    "- Restricted access to Hugging Face LLM "
   ]
  },
  {
   "cell_type": "markdown",
   "id": "fb251eaa",
   "metadata": {},
   "source": []
  }
 ],
 "metadata": {
  "kernelspec": {
   "display_name": "Python 3 (ipykernel)",
   "language": "python",
   "name": "python3"
  },
  "language_info": {
   "codemirror_mode": {
    "name": "ipython",
    "version": 3
   },
   "file_extension": ".py",
   "mimetype": "text/x-python",
   "name": "python",
   "nbconvert_exporter": "python",
   "pygments_lexer": "ipython3",
   "version": "3.12.0"
  }
 },
 "nbformat": 4,
 "nbformat_minor": 5
}
