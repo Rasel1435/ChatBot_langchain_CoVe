{
 "cells": [
  {
   "cell_type": "markdown",
   "id": "11b97e89-c147-448a-abb0-91eb8518a01c",
   "metadata": {},
   "source": [
    "# Model Option"
   ]
  },
  {
   "cell_type": "markdown",
   "id": "3e31c108",
   "metadata": {},
   "source": [
    "List of our Algorithm we will Try :\n",
    "- Tokenization\n",
    "- Word Embeddings\n",
    "- Sequence-to-Sequence Model (Seq2Seq)\n",
    "- Topic Modeling / Language Modeling\n",
    "- Dependency Parsing\n",
    "- Text Generation\n",
    "- OpenAI\n",
    "- HuggingFace"
   ]
  },
  {
   "cell_type": "markdown",
   "id": "469e1669",
   "metadata": {},
   "source": []
  }
 ],
 "metadata": {
  "kernelspec": {
   "display_name": "Python 3 (ipykernel)",
   "language": "python",
   "name": "python3"
  },
  "language_info": {
   "codemirror_mode": {
    "name": "ipython",
    "version": 3
   },
   "file_extension": ".py",
   "mimetype": "text/x-python",
   "name": "python",
   "nbconvert_exporter": "python",
   "pygments_lexer": "ipython3",
   "version": "3.12.0"
  }
 },
 "nbformat": 4,
 "nbformat_minor": 5
}
