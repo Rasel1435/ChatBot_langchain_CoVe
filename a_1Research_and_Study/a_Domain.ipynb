{
 "cells": [
  {
   "cell_type": "markdown",
   "id": "527015d6-991c-4b13-9c62-a777c578c97d",
   "metadata": {},
   "source": [
    "# ChatBot langchain CoVe"
   ]
  },
  {
   "cell_type": "markdown",
   "id": "20d08c63",
   "metadata": {},
   "source": [
    "We will use NLP as domain for our project"
   ]
  },
  {
   "cell_type": "markdown",
   "id": "fae82d08",
   "metadata": {},
   "source": []
  }
 ],
 "metadata": {
  "kernelspec": {
   "display_name": "Python 3 (ipykernel)",
   "language": "python",
   "name": "python3"
  },
  "language_info": {
   "codemirror_mode": {
    "name": "ipython",
    "version": 3
   },
   "file_extension": ".py",
   "mimetype": "text/x-python",
   "name": "python",
   "nbconvert_exporter": "python",
   "pygments_lexer": "ipython3",
   "version": "3.12.0"
  }
 },
 "nbformat": 4,
 "nbformat_minor": 5
}
